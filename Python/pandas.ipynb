{
 "cells": [
  {
   "cell_type": "markdown",
   "metadata": {},
   "source": [
    "# Pandas"
   ]
  },
  {
   "cell_type": "markdown",
   "metadata": {},
   "source": [
    "### Reading files"
   ]
  },
  {
   "cell_type": "code",
   "execution_count": 8,
   "metadata": {},
   "outputs": [
    {
     "name": "stdout",
     "output_type": "stream",
     "text": [
      "2.1.4\n"
     ]
    }
   ],
   "source": [
    "# Evan Ernst - Jan 20 2024\n",
    "import pandas as pd\n",
    "print(pd.__version__)"
   ]
  },
  {
   "cell_type": "code",
   "execution_count": 3,
   "metadata": {},
   "outputs": [
    {
     "name": "stdout",
     "output_type": "stream",
     "text": [
      "   #       Name Type 1  Type 2  HP  Attack  Defense  Sp. Atk  Sp. Def  Speed  \\\n",
      "0  1  Bulbasaur  Grass  Poison  45      49       49       65       65     45   \n",
      "1  2    Ivysaur  Grass  Poison  60      62       63       80       80     60   \n",
      "2  3   Venusaur  Grass  Poison  80      82       83      100      100     80   \n",
      "\n",
      "   Generation  Legendary  \n",
      "0           1      False  \n",
      "1           1      False  \n",
      "2           1      False  \n"
     ]
    }
   ],
   "source": [
    "# This cell reads in a csv, xlsx, and txt file\n",
    "\n",
    "# read .csv file\n",
    "df = pd.read_csv(\"./datasets/pokemon_data.csv\")\n",
    "\n",
    "# read .xlsx (excel) file\n",
    "df_excel = pd.read_excel(\"./datasets/pokemon_data.xlsx\")\n",
    "\n",
    "# read .txt file - same as .csv, except columns are separated by tabs (\"\\t\") instead of commas (\",\")\n",
    "df_txt = pd.read_csv(\"./datasets/pokemon_data.txt\", delimiter=\"\\t\")\n",
    "\n",
    "\n",
    "print(df.head(3))"
   ]
  },
  {
   "cell_type": "markdown",
   "metadata": {},
   "source": [
    "### Indexing"
   ]
  },
  {
   "cell_type": "code",
   "execution_count": 4,
   "metadata": {},
   "outputs": [
    {
     "name": "stdout",
     "output_type": "stream",
     "text": [
      "Poison\n",
      "                    Name  Type 2\n",
      "1                Ivysaur  Poison\n",
      "3  VenusaurMega Venusaur  Poison\n",
      "   #      Name Type 1  Type 2  HP  Attack  Defense  Sp. Atk  Sp. Def  Speed  \\\n",
      "1  2   Ivysaur  Grass  Poison  60      62       63       80       80     60   \n",
      "2  3  Venusaur  Grass  Poison  80      82       83      100      100     80   \n",
      "\n",
      "   Generation  Legendary  \n",
      "1           1      False  \n",
      "2           1      False  \n"
     ]
    }
   ],
   "source": [
    "# .columns makes a list of the headers\n",
    "df.columns\n",
    "\n",
    "# Get specific columns and rows\n",
    "cols = [\"#\", \"Name\", \"Speed\"] # choose columns\n",
    "cols = df.columns[0:-4] # quickly choose all columns except the last 2\n",
    "df[cols][0:5]\n",
    "\n",
    "# .iloc[rows, columns]\n",
    "print(df.iloc[1, 3]) # get single cell\n",
    "print(df.iloc[[1, 3], [1, 3]]) # get multiple cells\n",
    "print(df.iloc[1:3]) # get range of columns"
   ]
  },
  {
   "cell_type": "markdown",
   "metadata": {},
   "source": [
    "#### Series"
   ]
  },
  {
   "cell_type": "code",
   "execution_count": 5,
   "metadata": {},
   "outputs": [
    {
     "name": "stdout",
     "output_type": "stream",
     "text": [
      "0    1\n",
      "1    2\n",
      "2    3\n",
      "3    4\n",
      "dtype: int64\n"
     ]
    }
   ],
   "source": [
    "s = pd.Series([1, 2, 3, 4])\n",
    "print(s)"
   ]
  }
 ],
 "metadata": {
  "kernelspec": {
   "display_name": "Python 3",
   "language": "python",
   "name": "python3"
  },
  "language_info": {
   "codemirror_mode": {
    "name": "ipython",
    "version": 3
   },
   "file_extension": ".py",
   "mimetype": "text/x-python",
   "name": "python",
   "nbconvert_exporter": "python",
   "pygments_lexer": "ipython3",
   "version": "3.11.7"
  }
 },
 "nbformat": 4,
 "nbformat_minor": 2
}
