{
 "cells": [
  {
   "cell_type": "code",
   "execution_count": 3,
   "metadata": {},
   "outputs": [
    {
     "name": "stdout",
     "output_type": "stream",
     "text": [
      "range(0, 10)\n",
      "0\n",
      "1\n",
      "2\n",
      "3\n",
      "4\n",
      "5\n",
      "6\n",
      "7\n",
      "8\n",
      "9\n",
      "3\n",
      "range(2, 4)\n",
      "range(2, 9, 2)\n"
     ]
    }
   ],
   "source": [
    "# Range objects\n",
    "# A range object is an object of it's own type, NOT a list\n",
    "# It stores only start, end, and step values, calculating values on the fly rather than storing them\n",
    "\n",
    "# range(start, end, step)\n",
    "\n",
    "pyrange = range(10) # prints \"range(10)\" rather than a list\n",
    "\n",
    "print(pyrange)\n",
    "\n",
    "for i in pyrange: # acts like a list, but calculates values on the fly\n",
    "    print(i)\n",
    "\n",
    "print(pyrange[3])\n",
    "print(pyrange[2:4]) # instead of acting like an array, it creates another range object to save memory\n",
    "print(pyrange[2:9:2])\n",
    "\n",
    "# Numpy's arange() function actually creates a numpy array, instead of a range object\n",
    "# A regular python range object is the most memory efficient"
   ]
  }
 ],
 "metadata": {
  "kernelspec": {
   "display_name": "Python 3",
   "language": "python",
   "name": "python3"
  },
  "language_info": {
   "codemirror_mode": {
    "name": "ipython",
    "version": 3
   },
   "file_extension": ".py",
   "mimetype": "text/x-python",
   "name": "python",
   "nbconvert_exporter": "python",
   "pygments_lexer": "ipython3",
   "version": "3.12.1"
  }
 },
 "nbformat": 4,
 "nbformat_minor": 2
}
