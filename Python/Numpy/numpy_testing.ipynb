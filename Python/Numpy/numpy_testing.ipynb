{
 "cells": [
  {
   "cell_type": "code",
   "execution_count": 3,
   "metadata": {},
   "outputs": [
    {
     "name": "stdout",
     "output_type": "stream",
     "text": [
      "List a: [1 2 3]\n",
      "List b: \n",
      "[[1. 2. 3.]\n",
      " [9. 8. 7.]]\n"
     ]
    }
   ],
   "source": [
    "# Evan Ernst\n",
    "import numpy as np\n",
    "import pandas as pd # used to help illustrate functions\n",
    "\n",
    "# initialize basic numpy arrays\n",
    "a = np.array([1, 2, 3], dtype=\"int16\")\n",
    "\n",
    "b = np.array([[1.0, 2.0, 3.0], \n",
    "              [9.0, 8.0, 7.0]])\n",
    "\n",
    "print(f\"List a: {a}\")\n",
    "print(f\"List b: \\n{b}\")\n"
   ]
  },
  {
   "cell_type": "code",
   "execution_count": 4,
   "metadata": {},
   "outputs": [
    {
     "name": "stdout",
     "output_type": "stream",
     "text": [
      "\n",
      "   List  .ndim  .shape   .dtype  .size  .itemsize  .nbytes\n",
      "0    a      1    (3,)    int16      3          2        6\n",
      "1    b      2  (2, 3)  float64      6          8       48\n"
     ]
    }
   ],
   "source": [
    "# np.array() methods\n",
    "\n",
    "# a.ndim gets dimensions\n",
    "# a.shape gets shape\n",
    "# a.size == # of elements\n",
    "# a.dtype == data type of elements\n",
    "# a.itemsize == bytes per item\n",
    "# a.nbytes == total bytes used == (a.itemsize * a.size)\n",
    "\n",
    "# pandas used only to illustrate various property functions\n",
    "listStats = [[\"a\", a.ndim, a.shape, a.dtype, a.size, a.itemsize, a.nbytes],\n",
    "             [\"b\", b.ndim, b.shape, b.dtype, b.size, b.itemsize, b.nbytes]]\n",
    "df = pd.DataFrame(listStats, columns=[\"List\", \".ndim\", \".shape\", \".dtype\", \".size\", \".itemsize\", \".nbytes\"])\n",
    "print(\"\\n\", df)"
   ]
  },
  {
   "cell_type": "code",
   "execution_count": 5,
   "metadata": {},
   "outputs": [
    {
     "name": "stdout",
     "output_type": "stream",
     "text": [
      "a:\n",
      "[[ 1  2  3  4  5  6  7  8  9 10]\n",
      " [11 12 13 14 15 16 17 18 19 20]\n",
      " [21 22 23 24 25 26 27 28 29 30]]\n"
     ]
    }
   ],
   "source": [
    "a = np.array([[1,  2,  3,  4,  5,  6,  7,  8,  9, 10],\n",
    "             [11, 12, 13, 14, 15, 16, 17, 18, 19, 20],\n",
    "             [21, 22, 23, 24, 25, 26, 27, 28, 29, 30]])\n",
    "print(\"a:\")\n",
    "print(a)"
   ]
  },
  {
   "cell_type": "code",
   "execution_count": 6,
   "metadata": {},
   "outputs": [
    {
     "name": "stdout",
     "output_type": "stream",
     "text": [
      "\n",
      "Indexing:\n",
      "14\n",
      "[11 12 13 14 15 16 17 18 19 20]\n",
      "[ 3 13 23]\n",
      "[21 23 25 27 29]\n"
     ]
    }
   ],
   "source": [
    "# array indexing: [startindex:endindex:stepsize]\n",
    "# numpy can use comma notation for greater efficiency [1, 2] > [1][2]\n",
    "\n",
    "print(\"\\nIndexing:\")\n",
    "print(a[1, 3]) # (row 1, col 2)\n",
    "print(a[1, :]) # (row 1, all columns)\n",
    "print(a[:, 2]) # (all rows, column 2)\n",
    "print(a[2, ::2]) # (row 2, columns skipping every second)"
   ]
  },
  {
   "cell_type": "code",
   "execution_count": 7,
   "metadata": {},
   "outputs": [
    {
     "name": "stdout",
     "output_type": "stream",
     "text": [
      "[[  1   2   3   4   5   6   7   8   9  10]\n",
      " [ 11  12  13  14  15 420  17  18  19  20]\n",
      " [ 21  22  23  24  25  26  27  28  29  30]]\n",
      "[[    1     2     3     4     5     6     7     8     9    10]\n",
      " [   11    12    13    14    15   420    17    18    19    20]\n",
      " [80085 80085 80085 80085 80085 80085 80085 80085 80085 80085]]\n",
      "[[    1     2     3    69     5     6     7     8     9    10]\n",
      " [   11    12    13    69    15   420    17    18    19    20]\n",
      " [80085 80085 80085    69 80085 80085 80085 80085 80085 80085]]\n",
      "[[    1     2     3   101     5     6     7     8     9    10]\n",
      " [   11    12    13   102    15   420    17    18    19    20]\n",
      " [80085 80085 80085   103 80085 80085 80085 80085 80085 80085]]\n",
      "[[    1     2     3     8     5     6     7     8     9    10]\n",
      " [   11    12    13    10    15   420    17    18    19    20]\n",
      " [80085 80085 80085    12 80085 80085 80085 80085 80085 80085]]\n"
     ]
    }
   ],
   "source": [
    "# Setting values\n",
    "\n",
    "a[1, 5] = 420.69 # numpy forces data type\n",
    "print(a)\n",
    "a[2, :] = 80085\n",
    "print(a)\n",
    "a[:, 3] = 69 # sets column 3 to 69, 69, 69\n",
    "print(a)\n",
    "a[:, 3] = [101, 102, 103] # sets column 3 to 101, 102, 103\n",
    "print(a)\n",
    "a[:, 3] = np.arange(8, 8+6, 2) # sets column 3 to 8, 10, 12\n",
    "print(a)"
   ]
  },
  {
   "cell_type": "code",
   "execution_count": 20,
   "metadata": {},
   "outputs": [
    {
     "name": "stdout",
     "output_type": "stream",
     "text": [
      "[[[ 1  2  4]\n",
      "  [ 3  4  3]\n",
      "  [ 5  6  7]]\n",
      "\n",
      " [[ 7  8 32]\n",
      "  [ 9 10 22]\n",
      "  [11 12  3]]\n",
      "\n",
      " [[ 3  5  2]\n",
      "  [32 45 23]\n",
      "  [ 2 32 69]]]\n"
     ]
    }
   ],
   "source": [
    "# 3D array example\n",
    "b = np.array([[[1, 2, 4], \n",
    "               [3, 4, 3], \n",
    "               [5, 6, 7]], \n",
    "              [[7, 8, 32], \n",
    "               [9, 10, 22], \n",
    "               [11, 12, 3]],\n",
    "              [[3, 5, 2],\n",
    "               [32, 45, 23],\n",
    "               [2, 32, 69]]])\n",
    "print(b)"
   ]
  },
  {
   "cell_type": "code",
   "execution_count": 25,
   "metadata": {},
   "outputs": [
    {
     "name": "stdout",
     "output_type": "stream",
     "text": [
      "69\n",
      "[[ 5  6  7]\n",
      " [11 12  3]\n",
      " [ 2 32 69]]\n"
     ]
    }
   ],
   "source": [
    "# Ndim indexing - work outside in\n",
    "print(b[2, 2, 2])\n",
    "print(b[:, 2, :])"
   ]
  },
  {
   "cell_type": "code",
   "execution_count": 44,
   "metadata": {},
   "outputs": [
    {
     "data": {
      "text/plain": [
       "array([[0., 0., 0.],\n",
       "       [0., 0., 0.]])"
      ]
     },
     "execution_count": 44,
     "metadata": {},
     "output_type": "execute_result"
    }
   ],
   "source": [
    "np.zeros((2, 3))"
   ]
  },
  {
   "cell_type": "code",
   "execution_count": 45,
   "metadata": {},
   "outputs": [
    {
     "data": {
      "text/plain": [
       "array([[1, 1],\n",
       "       [1, 1],\n",
       "       [1, 1]], dtype=int8)"
      ]
     },
     "execution_count": 45,
     "metadata": {},
     "output_type": "execute_result"
    }
   ],
   "source": [
    "np.ones((3, 2), dtype=\"int8\") # data type int8"
   ]
  },
  {
   "cell_type": "code",
   "execution_count": 49,
   "metadata": {},
   "outputs": [
    {
     "data": {
      "text/plain": [
       "array([[[99, 99, 99, 99],\n",
       "        [99, 99, 99, 99],\n",
       "        [99, 99, 99, 99]],\n",
       "\n",
       "       [[99, 99, 99, 99],\n",
       "        [99, 99, 99, 99],\n",
       "        [99, 99, 99, 99]]])"
      ]
     },
     "execution_count": 49,
     "metadata": {},
     "output_type": "execute_result"
    }
   ],
   "source": [
    "np.full((2, 3, 4), 99) # np.full() generates an array of any number"
   ]
  },
  {
   "cell_type": "code",
   "execution_count": 55,
   "metadata": {},
   "outputs": [
    {
     "name": "stdout",
     "output_type": "stream",
     "text": [
      "[[3. 3. 3.]\n",
      " [3. 3. 3.]]\n",
      "[[3 3 3]\n",
      " [3 3 3]]\n"
     ]
    }
   ],
   "source": [
    "print(np.full_like(a, 3)) # np.full_like() uses another array's shape\n",
    "# equal to\n",
    "print(np.full(a.shape, 3))"
   ]
  },
  {
   "cell_type": "code",
   "execution_count": 67,
   "metadata": {},
   "outputs": [
    {
     "data": {
      "text/plain": [
       "array([[0.95823019, 0.98034197],\n",
       "       [0.48498221, 0.58522484]])"
      ]
     },
     "execution_count": 67,
     "metadata": {},
     "output_type": "execute_result"
    }
   ],
   "source": [
    "np.random.random((2, 2))"
   ]
  },
  {
   "cell_type": "code",
   "execution_count": 69,
   "metadata": {},
   "outputs": [
    {
     "data": {
      "text/plain": [
       "array([[9, 6],\n",
       "       [6, 7]])"
      ]
     },
     "execution_count": 69,
     "metadata": {},
     "output_type": "execute_result"
    }
   ],
   "source": [
    "np.random.randint(5, 10, (2, 2))"
   ]
  },
  {
   "cell_type": "code",
   "execution_count": 75,
   "metadata": {},
   "outputs": [
    {
     "name": "stdout",
     "output_type": "stream",
     "text": [
      "[[1 2 3]\n",
      " [1 2 3]\n",
      " [1 2 3]]\n"
     ]
    }
   ],
   "source": [
    "# Repeat an array\n",
    "arr = np.array([[1, 2, 3]])\n",
    "\n",
    "print(np.repeat(arr, 3, axis=0))"
   ]
  }
 ],
 "metadata": {
  "kernelspec": {
   "display_name": "Python 3",
   "language": "python",
   "name": "python3"
  },
  "language_info": {
   "codemirror_mode": {
    "name": "ipython",
    "version": 3
   },
   "file_extension": ".py",
   "mimetype": "text/x-python",
   "name": "python",
   "nbconvert_exporter": "python",
   "pygments_lexer": "ipython3",
   "version": "3.12.1"
  }
 },
 "nbformat": 4,
 "nbformat_minor": 2
}
