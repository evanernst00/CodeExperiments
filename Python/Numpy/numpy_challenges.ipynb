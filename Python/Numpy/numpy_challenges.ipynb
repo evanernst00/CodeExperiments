{
 "cells": [
  {
   "cell_type": "code",
   "execution_count": 79,
   "metadata": {},
   "outputs": [
    {
     "name": "stdout",
     "output_type": "stream",
     "text": [
      "[[1 1 1 1 1 1 1 1 1 1]\n",
      " [1 0 0 0 0 0 0 0 0 1]\n",
      " [1 0 0 0 0 0 0 0 0 1]\n",
      " [1 0 0 0 0 0 0 0 0 1]\n",
      " [1 0 0 0 0 0 0 0 0 1]\n",
      " [1 0 0 0 9 9 0 0 0 1]\n",
      " [1 0 0 0 0 0 0 0 0 1]\n",
      " [1 0 0 0 0 0 0 0 0 1]\n",
      " [1 0 0 0 0 0 0 0 0 1]\n",
      " [1 0 0 0 0 0 0 0 0 1]\n",
      " [1 1 1 1 1 1 1 1 1 1]]\n"
     ]
    }
   ],
   "source": [
    "# Evan Ernst\n",
    "# Array challenge: make a rectangle with a border of 1s, center of 9, the rest 0s\n",
    "import numpy as np\n",
    "\n",
    "height = 11\n",
    "width = 10\n",
    "\n",
    "# make an NxN array of 0s\n",
    "arr = np.ones((height, width), dtype=\"int16\")\n",
    "\n",
    "# get everything except for a border\n",
    "arr[1:-1, 1:-1] = 0\n",
    "\n",
    "# set the center square(s) to 9\n",
    "arr[((arr.shape[0]-1)//2):((arr.shape[0])//2+1), # rows\n",
    "    ((arr.shape[1]-1)//2):((arr.shape[1])//2+1)] = 9 # columns\n",
    "\n",
    "print(arr)"
   ]
  }
 ],
 "metadata": {
  "language_info": {
   "name": "python"
  }
 },
 "nbformat": 4,
 "nbformat_minor": 2
}
