{
 "cells": [
  {
   "cell_type": "markdown",
   "metadata": {},
   "source": [
    "### Range Objects"
   ]
  },
  {
   "cell_type": "code",
   "execution_count": 1,
   "metadata": {},
   "outputs": [
    {
     "name": "stdout",
     "output_type": "stream",
     "text": [
      "range(0, 10)\n",
      "0\n",
      "1\n",
      "2\n",
      "3\n",
      "4\n",
      "5\n",
      "6\n",
      "7\n",
      "8\n",
      "9\n",
      "3\n",
      "range(2, 4)\n",
      "range(2, 9, 2)\n"
     ]
    }
   ],
   "source": [
    "# Range objects\n",
    "# A range object is an object of it's own type, NOT a list\n",
    "# It stores only start, end, and step values, calculating values on the fly rather than storing them\n",
    "\n",
    "# range(start, end, step)\n",
    "\n",
    "pyrange = range(10) # prints \"range(10)\" rather than a list\n",
    "\n",
    "print(pyrange)\n",
    "\n",
    "for i in pyrange: # acts like a list, but calculates values on the fly\n",
    "    print(i)\n",
    "\n",
    "print(pyrange[3])\n",
    "print(pyrange[2:4]) # instead of acting like an array, it creates another range object to save memory\n",
    "print(pyrange[2:9:2])\n",
    "\n",
    "# Numpy's arange() function actually creates a numpy array, instead of a range object\n",
    "# A regular python range object is the most memory efficient"
   ]
  },
  {
   "cell_type": "markdown",
   "metadata": {},
   "source": [
    "### Dictionaries"
   ]
  },
  {
   "cell_type": "code",
   "execution_count": 5,
   "metadata": {},
   "outputs": [
    {
     "name": "stdout",
     "output_type": "stream",
     "text": [
      "{'one': 1, 'two': 2, 'three': 3}\n",
      "dict_keys(['one', 'two', 'three'])\n",
      "2\n"
     ]
    }
   ],
   "source": [
    "# Dictionaries\n",
    "\n",
    "dick = {\"one\": 1,\n",
    "        \"two\": 2,\n",
    "        \"three\": 3}\n",
    "\n",
    "print(dick)\n",
    "print(dick.keys())\n",
    "if \"two\" in dick:\n",
    "    print(dick[\"two\"])"
   ]
  },
  {
   "cell_type": "code",
   "execution_count": 13,
   "metadata": {},
   "outputs": [
    {
     "name": "stdout",
     "output_type": "stream",
     "text": [
      "one -> 1\n",
      "two -> 2\n",
      "three -> 3\n"
     ]
    }
   ],
   "source": [
    "for key in dick:\n",
    "    print(key, \"->\", dick[key])"
   ]
  },
  {
   "cell_type": "markdown",
   "metadata": {},
   "source": [
    "Value unpacking"
   ]
  },
  {
   "cell_type": "code",
   "execution_count": 44,
   "metadata": {},
   "outputs": [
    {
     "name": "stdout",
     "output_type": "stream",
     "text": [
      "(1, 2, 3)\n",
      "1 2 3\n"
     ]
    }
   ],
   "source": [
    "vals = (1, 2, 3)\n",
    "one, two, three = vals\n",
    "print(vals)\n",
    "print(one, two, three)"
   ]
  },
  {
   "cell_type": "markdown",
   "metadata": {},
   "source": [
    "##### Dictionary functions"
   ]
  },
  {
   "cell_type": "code",
   "execution_count": 47,
   "metadata": {},
   "outputs": [
    {
     "name": "stdout",
     "output_type": "stream",
     "text": [
      "dict_items([('one', 1), ('two', 2), ('three', 3)])\n"
     ]
    }
   ],
   "source": [
    "# .items prints a list of tuples (key, value)\n",
    "print(dick.items())"
   ]
  },
  {
   "cell_type": "code",
   "execution_count": 49,
   "metadata": {},
   "outputs": [
    {
     "name": "stdout",
     "output_type": "stream",
     "text": [
      "dict_keys(['one', 'two', 'three'])\n"
     ]
    }
   ],
   "source": [
    "# .keys() makes a list of keys\n",
    "print(dick.keys())"
   ]
  },
  {
   "cell_type": "markdown",
   "metadata": {},
   "source": [
    "Zip function"
   ]
  },
  {
   "cell_type": "code",
   "execution_count": 40,
   "metadata": {},
   "outputs": [
    {
     "name": "stdout",
     "output_type": "stream",
     "text": [
      "['one', 'two', 'three', 'four']\n",
      "[1, 2, 3, 4]\n"
     ]
    }
   ],
   "source": [
    "# zip function\n",
    "x = [\"one\", \"two\", \"three\", \"four\"]\n",
    "y = [1, 2, 3, 4]\n",
    "\n",
    "print(x)\n",
    "print(y)"
   ]
  },
  {
   "cell_type": "code",
   "execution_count": 43,
   "metadata": {},
   "outputs": [
    {
     "name": "stdout",
     "output_type": "stream",
     "text": [
      "{'one': 1, 'two': 2, 'three': 3, 'four': 4}\n",
      "[('one', 1), ('two', 2), ('three', 3), ('four', 4)]\n"
     ]
    }
   ],
   "source": [
    "mydict = dict(zip(x, y))\n",
    "mylist = list(zip(x, y))\n",
    "\n",
    "print(mydict)\n",
    "print(mylist)"
   ]
  },
  {
   "cell_type": "markdown",
   "metadata": {},
   "source": [
    "### Python Kinky Fuckery"
   ]
  },
  {
   "cell_type": "code",
   "execution_count": 27,
   "metadata": {},
   "outputs": [
    {
     "data": {
      "text/plain": [
       "{0: 0, 1: 1, 2: 8, 3: 27, 4: 64}"
      ]
     },
     "execution_count": 27,
     "metadata": {},
     "output_type": "execute_result"
    }
   ],
   "source": [
    "cubes = {x: x**3 for x in range(5)}\n",
    "cubes"
   ]
  }
 ],
 "metadata": {
  "kernelspec": {
   "display_name": "Python 3",
   "language": "python",
   "name": "python3"
  },
  "language_info": {
   "codemirror_mode": {
    "name": "ipython",
    "version": 3
   },
   "file_extension": ".py",
   "mimetype": "text/x-python",
   "name": "python",
   "nbconvert_exporter": "python",
   "pygments_lexer": "ipython3",
   "version": "3.12.1"
  }
 },
 "nbformat": 4,
 "nbformat_minor": 2
}
