{
 "cells": [
  {
   "cell_type": "code",
   "execution_count": 13,
   "metadata": {},
   "outputs": [
    {
     "name": "stdout",
     "output_type": "stream",
     "text": [
      "[10 20  3]\n",
      "[10 20  3]\n",
      "\n",
      "[ 1 20  3]\n",
      "[10  2  3]\n"
     ]
    }
   ],
   "source": [
    "# Demonstrate numpy pointing errors\n",
    "import numpy as np\n",
    "\n",
    "a = np.array((1, 2, 3))\n",
    "b = a # &b == &a, b points to the same memory as a\n",
    "b[0] = 10 # changing b changes the same array as a\n",
    "a[1] = 20 # a also changes b\n",
    "print(a)\n",
    "print(b)\n",
    "\n",
    "print()\n",
    "\n",
    "# use .copy() to avoiding overlapping references\n",
    "a = np.array((1, 2, 3))\n",
    "b = a.copy() # creates a separate array for b\n",
    "b[0] = 10\n",
    "a[1] = 20\n",
    "print(a)\n",
    "print(b)"
   ]
  }
 ],
 "metadata": {
  "kernelspec": {
   "display_name": "Python 3",
   "language": "python",
   "name": "python3"
  },
  "language_info": {
   "codemirror_mode": {
    "name": "ipython",
    "version": 3
   },
   "file_extension": ".py",
   "mimetype": "text/x-python",
   "name": "python",
   "nbconvert_exporter": "python",
   "pygments_lexer": "ipython3",
   "version": "3.12.1"
  }
 },
 "nbformat": 4,
 "nbformat_minor": 2
}
