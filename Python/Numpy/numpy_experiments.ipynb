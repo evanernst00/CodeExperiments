{
 "cells": [
  {
   "cell_type": "markdown",
   "metadata": {},
   "source": [
    "### Functions"
   ]
  },
  {
   "cell_type": "markdown",
   "metadata": {},
   "source": [
    "##### Numpy Methods"
   ]
  },
  {
   "cell_type": "code",
   "execution_count": 2,
   "metadata": {},
   "outputs": [
    {
     "name": "stdout",
     "output_type": "stream",
     "text": [
      "List a: [1 2 3]\n",
      "List b: \n",
      "[[1. 2. 3.]\n",
      " [9. 8. 7.]]\n"
     ]
    }
   ],
   "source": [
    "import numpy as np\n",
    "import pandas as pd # used to help illustrate functions\n",
    "\n",
    "# initialize basic numpy arrays\n",
    "a = np.array([1, 2, 3], dtype=\"int16\")\n",
    "\n",
    "b = np.array([[1.0, 2.0, 3.0], \n",
    "              [9.0, 8.0, 7.0]])\n",
    "\n",
    "print(f\"List a: {a}\")\n",
    "print(f\"List b: \\n{b}\")\n"
   ]
  },
  {
   "cell_type": "code",
   "execution_count": 3,
   "metadata": {},
   "outputs": [
    {
     "name": "stdout",
     "output_type": "stream",
     "text": [
      "\n",
      "   List  .ndim  .shape   .dtype  .size  .itemsize  .nbytes\n",
      "0    a      1    (3,)    int16      3          2        6\n",
      "1    b      2  (2, 3)  float64      6          8       48\n"
     ]
    }
   ],
   "source": [
    "# np.array() methods\n",
    "\n",
    "# a.ndim gets dimensions\n",
    "# a.shape gets shape\n",
    "# a.size == # of elements\n",
    "# a.dtype == data type of elements\n",
    "# a.itemsize == bytes per item\n",
    "# a.nbytes == total bytes used == (a.itemsize * a.size)\n",
    "\n",
    "# pandas used only to illustrate various property functions\n",
    "listStats = [[\"a\", a.ndim, a.shape, a.dtype, a.size, a.itemsize, a.nbytes],\n",
    "             [\"b\", b.ndim, b.shape, b.dtype, b.size, b.itemsize, b.nbytes]]\n",
    "df = pd.DataFrame(listStats, columns=[\"List\", \".ndim\", \".shape\", \".dtype\", \".size\", \".itemsize\", \".nbytes\"])\n",
    "print(\"\\n\", df)"
   ]
  },
  {
   "cell_type": "markdown",
   "metadata": {},
   "source": [
    "##### Array indexing"
   ]
  },
  {
   "cell_type": "code",
   "execution_count": 4,
   "metadata": {},
   "outputs": [
    {
     "name": "stdout",
     "output_type": "stream",
     "text": [
      "a:\n",
      "[[ 1  2  3  4  5  6  7  8  9 10]\n",
      " [11 12 13 14 15 16 17 18 19 20]\n",
      " [21 22 23 24 25 26 27 28 29 30]]\n"
     ]
    }
   ],
   "source": [
    "a = np.array([[1,  2,  3,  4,  5,  6,  7,  8,  9, 10],\n",
    "             [11, 12, 13, 14, 15, 16, 17, 18, 19, 20],\n",
    "             [21, 22, 23, 24, 25, 26, 27, 28, 29, 30]])\n",
    "print(\"a:\")\n",
    "print(a)"
   ]
  },
  {
   "cell_type": "code",
   "execution_count": 5,
   "metadata": {},
   "outputs": [
    {
     "name": "stdout",
     "output_type": "stream",
     "text": [
      "\n",
      "Indexing:\n",
      "14\n",
      "[11 12 13 14 15 16 17 18 19 20]\n",
      "[ 3 13 23]\n",
      "[21 23 25 27 29]\n"
     ]
    }
   ],
   "source": [
    "# array indexing: [startindex:endindex:stepsize]\n",
    "# numpy can use comma notation for greater efficiency [1, 2] > [1][2]\n",
    "\n",
    "print(\"\\nIndexing:\")\n",
    "print(a[1, 3]) # (row 1, col 2)\n",
    "print(a[1, :]) # (row 1, all columns)\n",
    "print(a[:, 2]) # (all rows, column 2)\n",
    "print(a[2, ::2]) # (row 2, columns skipping every second)"
   ]
  },
  {
   "cell_type": "markdown",
   "metadata": {},
   "source": [
    "##### Value Setting"
   ]
  },
  {
   "cell_type": "code",
   "execution_count": 6,
   "metadata": {},
   "outputs": [
    {
     "name": "stdout",
     "output_type": "stream",
     "text": [
      "[[  1   2   3   4   5   6   7   8   9  10]\n",
      " [ 11  12  13  14  15 420  17  18  19  20]\n",
      " [ 21  22  23  24  25  26  27  28  29  30]]\n",
      "[[    1     2     3     4     5     6     7     8     9    10]\n",
      " [   11    12    13    14    15   420    17    18    19    20]\n",
      " [80085 80085 80085 80085 80085 80085 80085 80085 80085 80085]]\n",
      "[[    1     2     3    69     5     6     7     8     9    10]\n",
      " [   11    12    13    69    15   420    17    18    19    20]\n",
      " [80085 80085 80085    69 80085 80085 80085 80085 80085 80085]]\n",
      "[[    1     2     3   101     5     6     7     8     9    10]\n",
      " [   11    12    13   102    15   420    17    18    19    20]\n",
      " [80085 80085 80085   103 80085 80085 80085 80085 80085 80085]]\n",
      "[[    1     2     3     8     5     6     7     8     9    10]\n",
      " [   11    12    13    10    15   420    17    18    19    20]\n",
      " [80085 80085 80085    12 80085 80085 80085 80085 80085 80085]]\n"
     ]
    }
   ],
   "source": [
    "# Setting values\n",
    "\n",
    "a[1, 5] = 420.69 # numpy forces data type\n",
    "print(a)\n",
    "a[2, :] = 80085\n",
    "print(a)\n",
    "a[:, 3] = 69 # sets column 3 to 69, 69, 69\n",
    "print(a)\n",
    "a[:, 3] = [101, 102, 103] # sets column 3 to 101, 102, 103\n",
    "print(a)\n",
    "a[:, 3] = np.arange(8, 8+6, 2) # sets column 3 to 8, 10, 12\n",
    "print(a)"
   ]
  },
  {
   "cell_type": "markdown",
   "metadata": {},
   "source": [
    "##### 3D Application"
   ]
  },
  {
   "cell_type": "code",
   "execution_count": 7,
   "metadata": {},
   "outputs": [
    {
     "name": "stdout",
     "output_type": "stream",
     "text": [
      "[[[ 1  2  4]\n",
      "  [ 3  4  3]\n",
      "  [ 5  6  7]]\n",
      "\n",
      " [[ 7  8 32]\n",
      "  [ 9 10 22]\n",
      "  [11 12  3]]\n",
      "\n",
      " [[ 3  5  2]\n",
      "  [32 45 23]\n",
      "  [ 2 32 69]]]\n"
     ]
    }
   ],
   "source": [
    "# 3D array example\n",
    "b = np.array([[[1, 2, 4], \n",
    "               [3, 4, 3], \n",
    "               [5, 6, 7]], \n",
    "              [[7, 8, 32], \n",
    "               [9, 10, 22], \n",
    "               [11, 12, 3]],\n",
    "              [[3, 5, 2],\n",
    "               [32, 45, 23],\n",
    "               [2, 32, 69]]])\n",
    "print(b)"
   ]
  },
  {
   "cell_type": "code",
   "execution_count": 8,
   "metadata": {},
   "outputs": [
    {
     "name": "stdout",
     "output_type": "stream",
     "text": [
      "69\n",
      "[[ 5  6  7]\n",
      " [11 12  3]\n",
      " [ 2 32 69]]\n"
     ]
    }
   ],
   "source": [
    "# Ndim indexing - work outside in\n",
    "print(b[2, 2, 2])\n",
    "print(b[:, 2, :])"
   ]
  },
  {
   "cell_type": "markdown",
   "metadata": {},
   "source": [
    "##### Numpy array generation methods"
   ]
  },
  {
   "cell_type": "code",
   "execution_count": 9,
   "metadata": {},
   "outputs": [
    {
     "data": {
      "text/plain": [
       "array([[0., 0., 0.],\n",
       "       [0., 0., 0.]])"
      ]
     },
     "execution_count": 9,
     "metadata": {},
     "output_type": "execute_result"
    }
   ],
   "source": [
    "np.zeros((2, 3))"
   ]
  },
  {
   "cell_type": "code",
   "execution_count": 10,
   "metadata": {},
   "outputs": [
    {
     "data": {
      "text/plain": [
       "array([[1, 1],\n",
       "       [1, 1],\n",
       "       [1, 1]], dtype=int8)"
      ]
     },
     "execution_count": 10,
     "metadata": {},
     "output_type": "execute_result"
    }
   ],
   "source": [
    "np.ones((3, 2), dtype=\"int8\") # data type int8"
   ]
  },
  {
   "cell_type": "code",
   "execution_count": 11,
   "metadata": {},
   "outputs": [
    {
     "data": {
      "text/plain": [
       "array([[[99, 99, 99, 99],\n",
       "        [99, 99, 99, 99],\n",
       "        [99, 99, 99, 99]],\n",
       "\n",
       "       [[99, 99, 99, 99],\n",
       "        [99, 99, 99, 99],\n",
       "        [99, 99, 99, 99]]])"
      ]
     },
     "execution_count": 11,
     "metadata": {},
     "output_type": "execute_result"
    }
   ],
   "source": [
    "np.full((2, 3, 4), 99) # np.full() generates an array of any number"
   ]
  },
  {
   "cell_type": "code",
   "execution_count": 12,
   "metadata": {},
   "outputs": [
    {
     "name": "stdout",
     "output_type": "stream",
     "text": [
      "[[3 3 3 3 3 3 3 3 3 3]\n",
      " [3 3 3 3 3 3 3 3 3 3]\n",
      " [3 3 3 3 3 3 3 3 3 3]]\n",
      "[[3 3 3 3 3 3 3 3 3 3]\n",
      " [3 3 3 3 3 3 3 3 3 3]\n",
      " [3 3 3 3 3 3 3 3 3 3]]\n"
     ]
    }
   ],
   "source": [
    "print(np.full_like(a, 3)) # np.full_like() uses another array's shape\n",
    "# equal to\n",
    "print(np.full(a.shape, 3))"
   ]
  },
  {
   "cell_type": "code",
   "execution_count": 13,
   "metadata": {},
   "outputs": [
    {
     "data": {
      "text/plain": [
       "array([[0.47199794, 0.87577014],\n",
       "       [0.2548508 , 0.53913366]])"
      ]
     },
     "execution_count": 13,
     "metadata": {},
     "output_type": "execute_result"
    }
   ],
   "source": [
    "np.random.random((2, 2))"
   ]
  },
  {
   "cell_type": "code",
   "execution_count": 14,
   "metadata": {},
   "outputs": [
    {
     "data": {
      "text/plain": [
       "array([[8, 7],\n",
       "       [7, 6]])"
      ]
     },
     "execution_count": 14,
     "metadata": {},
     "output_type": "execute_result"
    }
   ],
   "source": [
    "np.random.randint(5, 10, (2, 2))"
   ]
  },
  {
   "cell_type": "code",
   "execution_count": 15,
   "metadata": {},
   "outputs": [
    {
     "name": "stdout",
     "output_type": "stream",
     "text": [
      "[[1 2 3]\n",
      " [1 2 3]\n",
      " [1 2 3]]\n"
     ]
    }
   ],
   "source": [
    "# Repeat an array\n",
    "arr = np.array([[1, 2, 3]])\n",
    "\n",
    "print(np.repeat(arr, 3, axis=0))"
   ]
  },
  {
   "cell_type": "markdown",
   "metadata": {},
   "source": [
    "##### Reshape & Stack"
   ]
  },
  {
   "cell_type": "code",
   "execution_count": 16,
   "metadata": {},
   "outputs": [
    {
     "name": "stdout",
     "output_type": "stream",
     "text": [
      "[[1. 1. 1. 1.]\n",
      " [1. 1. 1. 1.]]\n",
      "[[1.]\n",
      " [1.]\n",
      " [1.]\n",
      " [1.]\n",
      " [1.]\n",
      " [1.]\n",
      " [1.]\n",
      " [1.]]\n"
     ]
    }
   ],
   "source": [
    "# reshaping an array\n",
    "a = np.ones([2, 4])\n",
    "print(a)\n",
    "\n",
    "b = a.reshape([8, 1])\n",
    "print(b)"
   ]
  },
  {
   "cell_type": "code",
   "execution_count": 17,
   "metadata": {},
   "outputs": [
    {
     "name": "stdout",
     "output_type": "stream",
     "text": [
      "[[1. 2. 3.]\n",
      " [1. 1. 1.]\n",
      " [1. 1. 1.]]\n",
      "\n",
      "[[0. 1. 1. 1.]\n",
      " [0. 1. 1. 1.]]\n"
     ]
    }
   ],
   "source": [
    "a = np.array([1, 2, 3])\n",
    "b = np.ones([2, 3])\n",
    "c = np.zeros([2, 1])\n",
    "\n",
    "print(np.vstack([a, b])) # handles adding 1D array onto a 2D array\n",
    "print()\n",
    "print(np.hstack([c, b]))"
   ]
  },
  {
   "cell_type": "markdown",
   "metadata": {},
   "source": [
    "### Math"
   ]
  },
  {
   "cell_type": "markdown",
   "metadata": {},
   "source": [
    "##### Array Math"
   ]
  },
  {
   "cell_type": "code",
   "execution_count": 72,
   "metadata": {},
   "outputs": [
    {
     "name": "stdout",
     "output_type": "stream",
     "text": [
      "[1 2 3 4]\n",
      "[11 12 13 14]\n",
      "[-3 -2 -1  0]\n",
      "[2 4 6 8]\n",
      "[0.5 1.  1.5 2. ]\n",
      "[0 1 1 2]\n",
      "[ 1  4  9 16]\n"
     ]
    }
   ],
   "source": [
    "# Demonstrate numpy math\n",
    "import numpy as np\n",
    "\n",
    "a = np.array([1, 2, 3, 4])\n",
    "b = np.array([1, 0, 1, 0])\n",
    "\n",
    "print(a)\n",
    "print(a+10)\n",
    "print(a-4)\n",
    "print(a*2)\n",
    "print(a/2)\n",
    "print(a//2)\n",
    "print(a**2)"
   ]
  },
  {
   "cell_type": "code",
   "execution_count": 73,
   "metadata": {},
   "outputs": [
    {
     "name": "stdout",
     "output_type": "stream",
     "text": [
      "[ 1.55740772 -2.18503986 -0.14254654  1.15782128]\n",
      "[1. 0. 1. 0.]\n"
     ]
    }
   ],
   "source": [
    "# trig functions\n",
    "print(np.tan(a))\n",
    "print(np.sin(b * (np.pi/2))) # np has built in math functions, don't use math lib"
   ]
  },
  {
   "cell_type": "code",
   "execution_count": 74,
   "metadata": {},
   "outputs": [
    {
     "name": "stdout",
     "output_type": "stream",
     "text": [
      "[1 0 3 0]\n",
      "[2 2 4 4]\n"
     ]
    }
   ],
   "source": [
    "# array math\n",
    "print(a * b)\n",
    "print(a + b)"
   ]
  },
  {
   "cell_type": "markdown",
   "metadata": {},
   "source": [
    "##### Linear Algebra"
   ]
  },
  {
   "cell_type": "code",
   "execution_count": 75,
   "metadata": {},
   "outputs": [
    {
     "data": {
      "text/plain": [
       "array([[9., 9.],\n",
       "       [9., 9.]])"
      ]
     },
     "execution_count": 75,
     "metadata": {},
     "output_type": "execute_result"
    }
   ],
   "source": [
    "# matrix multiplication\n",
    "a = np.ones([2, 3])\n",
    "b = np.full([3, 2], 3)\n",
    "\n",
    "np.matmul(a, b)"
   ]
  },
  {
   "cell_type": "code",
   "execution_count": 76,
   "metadata": {},
   "outputs": [
    {
     "name": "stdout",
     "output_type": "stream",
     "text": [
      "[[1. 0. 0.]\n",
      " [0. 1. 0.]\n",
      " [0. 0. 1.]]\n",
      "1.0\n"
     ]
    }
   ],
   "source": [
    "# make identity matrix, find determinate function\n",
    "print(np.identity(3))\n",
    "\n",
    "print(np.linalg.det(np.identity(3)))\n",
    "\n",
    "\n",
    "# There are many more resources on linear algebra"
   ]
  },
  {
   "cell_type": "markdown",
   "metadata": {},
   "source": [
    "##### Statistics"
   ]
  },
  {
   "cell_type": "code",
   "execution_count": 77,
   "metadata": {},
   "outputs": [
    {
     "name": "stdout",
     "output_type": "stream",
     "text": [
      "[[1 2 3]\n",
      " [4 5 6]]\n"
     ]
    }
   ],
   "source": [
    "stats = np.array([[1, 2, 3],\n",
    "                  [4, 5, 6]])\n",
    "print(stats)"
   ]
  },
  {
   "cell_type": "code",
   "execution_count": 78,
   "metadata": {},
   "outputs": [
    {
     "name": "stdout",
     "output_type": "stream",
     "text": [
      "1\n",
      "[4 5 6]\n",
      "[1 4]\n"
     ]
    }
   ],
   "source": [
    "print(np.min(stats))\n",
    "print(np.max(stats, axis=0)) # vertical (y) axis\n",
    "print(np.min(stats, axis=1)) # horizontal (x) axis"
   ]
  },
  {
   "cell_type": "code",
   "execution_count": 79,
   "metadata": {},
   "outputs": [
    {
     "name": "stdout",
     "output_type": "stream",
     "text": [
      "21\n",
      "21\n",
      "[5 7 9]\n"
     ]
    }
   ],
   "source": [
    "print(np.sum(stats))\n",
    "print(stats.sum())\n",
    "\n",
    "# essentially like adding two arrays together\n",
    "# sums vertically\n",
    "print(np.sum(stats, axis=0))"
   ]
  },
  {
   "cell_type": "markdown",
   "metadata": {},
   "source": [
    "### Copying Arrays / Memory Management\n",
    "Numpy pointers are wacky"
   ]
  },
  {
   "cell_type": "code",
   "execution_count": 13,
   "metadata": {},
   "outputs": [
    {
     "name": "stdout",
     "output_type": "stream",
     "text": [
      "[10 20  3]\n",
      "[10 20  3]\n",
      "\n",
      "[ 1 20  3]\n",
      "[10  2  3]\n"
     ]
    }
   ],
   "source": [
    "# Demonstrate numpy pointing errors\n",
    "import numpy as np\n",
    "\n",
    "a = np.array((1, 2, 3))\n",
    "b = a # &b == &a, b points to the same memory as a\n",
    "b[0] = 10 # changing b changes the same array as a\n",
    "a[1] = 20 # a also changes b\n",
    "print(a)\n",
    "print(b)\n",
    "\n",
    "print()\n",
    "\n",
    "# use .copy() to avoiding overlapping references\n",
    "a = np.array((1, 2, 3))\n",
    "b = a.copy() # creates a separate array for b\n",
    "b[0] = 10\n",
    "a[1] = 20\n",
    "print(a)\n",
    "print(b)"
   ]
  },
  {
   "cell_type": "markdown",
   "metadata": {},
   "source": [
    "### Importing from File"
   ]
  },
  {
   "cell_type": "markdown",
   "metadata": {},
   "source": [
    "##### Importing Data\n",
    "Avoiding pandas"
   ]
  },
  {
   "cell_type": "code",
   "execution_count": 12,
   "metadata": {},
   "outputs": [
    {
     "name": "stdout",
     "output_type": "stream",
     "text": [
      "   1  13  21  11  196  75  4   3  34  6  7  8  0  1.1  2  3.1  4.1   5\n",
      "0  3  42  12  33  766  75  4  55   6  4  3  4  5    6  7    0   11  12\n",
      "1  1  22  33  11  999  11  2   1  78  0  1  2  9    8  7    1   76  88\n"
     ]
    }
   ],
   "source": [
    "# pandas visualization\n",
    "import pandas as pd\n",
    "\n",
    "df = pd.read_csv(\"data.txt\")\n",
    "print(df)"
   ]
  },
  {
   "cell_type": "code",
   "execution_count": 15,
   "metadata": {},
   "outputs": [
    {
     "name": "stdout",
     "output_type": "stream",
     "text": [
      "[[  1  13  21  11 196  75   4   3  34   6   7   8   0   1   2   3   4   5]\n",
      " [  3  42  12  33 766  75   4  55   6   4   3   4   5   6   7   0  11  12]\n",
      " [  1  22  33  11 999  11   2   1  78   0   1   2   9   8   7   1  76  88]]\n"
     ]
    }
   ],
   "source": [
    "import numpy as np\n",
    "\n",
    "filedata = np.genfromtxt(\"data.txt\", delimiter=',')\n",
    "filedata = filedata.astype(\"int\")\n",
    "\n",
    "print(filedata)\n",
    "\n"
   ]
  }
 ],
 "metadata": {
  "kernelspec": {
   "display_name": "Python 3",
   "language": "python",
   "name": "python3"
  },
  "language_info": {
   "codemirror_mode": {
    "name": "ipython",
    "version": 3
   },
   "file_extension": ".py",
   "mimetype": "text/x-python",
   "name": "python",
   "nbconvert_exporter": "python",
   "pygments_lexer": "ipython3",
   "version": "3.12.1"
  }
 },
 "nbformat": 4,
 "nbformat_minor": 2
}
