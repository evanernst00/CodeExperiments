{
 "cells": [
  {
   "cell_type": "markdown",
   "metadata": {},
   "source": [
    "# Python random library"
   ]
  },
  {
   "cell_type": "markdown",
   "metadata": {},
   "source": [
    "### Basic random functions"
   ]
  },
  {
   "cell_type": "code",
   "execution_count": null,
   "metadata": {},
   "outputs": [],
   "source": [
    "import random"
   ]
  },
  {
   "cell_type": "code",
   "execution_count": 28,
   "metadata": {},
   "outputs": [
    {
     "name": "stdout",
     "output_type": "stream",
     "text": [
      "Random float between 0 and 1: 0.9659674916788414\n",
      "Random float between 1 and 100: 7.435434784348357\n",
      "Random integer between 1 and 100: 56\n"
     ]
    }
   ],
   "source": [
    "min = 1\n",
    "max = 100\n",
    "\n",
    "print(f\"Random float between 0 and 1: {random.random()}\")\n",
    "print(f\"Random float between {min} and {max}: {random.uniform(min, max)}\")\n",
    "print(f\"Random integer between {min} and {max}: {random.randint(min, max)}\")\n"
   ]
  },
  {
   "cell_type": "code",
   "execution_count": 1,
   "metadata": {},
   "outputs": [
    {
     "name": "stdout",
     "output_type": "stream",
     "text": [
      "1617989671\n"
     ]
    }
   ],
   "source": [
    "# C++ rand() equivalent\n",
    "def rand():\n",
    "    return random.randint(0, 2147483647)\n",
    "\n",
    "print(rand())\n"
   ]
  },
  {
   "cell_type": "markdown",
   "metadata": {},
   "source": [
    "### Random list functions"
   ]
  },
  {
   "cell_type": "code",
   "execution_count": 28,
   "metadata": {},
   "outputs": [
    {
     "name": "stdout",
     "output_type": "stream",
     "text": [
      "Welcome to list random functions\n",
      "List of fruits: ['Apple', 'Banana', 'Dragonfruit']\n",
      "List of numbers: [1, 2, 3, 4, 5, 6, 7, 8, 9, 10]\n",
      "--- random.choice() ---\n",
      "Random fruit: Banana\n",
      "Random number: 2\n",
      "--- random.choices() ---\n",
      "Random list of fruits: ['Dragonfruit', 'Apple', 'Banana', 'Apple', 'Banana', 'Dragonfruit', 'Apple', 'Dragonfruit', 'Banana', 'Banana']\n",
      "Random list of numbers: [9, 8, 6, 10, 10, 3, 10, 8, 2, 10]\n",
      "--- random.shuffle() ---\n",
      "Shuffled list of fruits: None\n",
      "Shuffled list of numbers: None\n",
      "--- random.sample() ---\n",
      "Two-element sample of fruits: ['Apple', 'Dragonfruit']\n",
      "Three-element sample of numbers: [9, 1, 10]\n"
     ]
    }
   ],
   "source": [
    "# Random list tests\n",
    "import random\n",
    "\n",
    "fruits = [\"Apple\", \"Banana\", \"Dragonfruit\"]\n",
    "numbers = [1, 2, 3, 4, 5, 6, 7, 8, 9, 10]\n",
    "\n",
    "print(\"Welcome to list random functions\")\n",
    "print(f\"List of fruits: {fruits}\")\n",
    "print(f\"List of numbers: {numbers}\")\n",
    "\n",
    "# random.choice(list) picks a random option from a list\n",
    "print(\"--- random.choice() ---\")\n",
    "print(\"Random fruit:\", random.choice(fruits)) \n",
    "print(\"Random number:\", random.choice(numbers))\n",
    "\n",
    "# random.choices(list, weights, length k of generated list) generates a list of options from another array\n",
    "print(\"--- random.choices() ---\")\n",
    "print(\"Random list of fruits:\", random.choices(fruits, weights=[5, 20, 10], k=10))\n",
    "print(\"Random list of numbers:\", random.choices(numbers, k=10))\n",
    "\n",
    "# random.shuffle(list) shuffles a sequence\n",
    "print(\"--- random.shuffle() ---\")\n",
    "print(f\"Shuffled list of fruits: {random.shuffle(fruits)}\")\n",
    "print(f\"Shuffled list of numbers: {random.shuffle(numbers)}\")\n",
    "\n",
    "# random.sample(list) returns a sample from the original list\n",
    "print(\"--- random.sample() ---\")\n",
    "print(f\"Two-element sample of fruits: {random.sample(fruits, k=2)}\")\n",
    "print(f\"Three-element sample of numbers: {random.sample(numbers, k=3)}\")\n"
   ]
  }
 ],
 "metadata": {
  "kernelspec": {
   "display_name": "Python 3",
   "language": "python",
   "name": "python3"
  },
  "language_info": {
   "codemirror_mode": {
    "name": "ipython",
    "version": 3
   },
   "file_extension": ".py",
   "mimetype": "text/x-python",
   "name": "python",
   "nbconvert_exporter": "python",
   "pygments_lexer": "ipython3",
   "version": "3.12.1"
  }
 },
 "nbformat": 4,
 "nbformat_minor": 2
}
