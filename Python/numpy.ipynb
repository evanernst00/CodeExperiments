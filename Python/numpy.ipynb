{
 "cells": [
  {
   "cell_type": "code",
   "execution_count": 2,
   "metadata": {},
   "outputs": [
    {
     "name": "stdout",
     "output_type": "stream",
     "text": [
      "List a: [1 2 3]\n",
      "List b: \n",
      "[[1. 2. 3.]\n",
      " [9. 8. 7.]]\n",
      "\n",
      "   List  .ndim  .shape   .dtype  .size  .itemsize  .nbytes\n",
      "0    a      1    (3,)    int16      3          2        6\n",
      "1    b      2  (2, 3)  float64      6          8       48\n"
     ]
    }
   ],
   "source": [
    "# Evan Ernst - Jan 20 2024\n",
    "import numpy as np\n",
    "import pandas as pd # used to help illustrate functions\n",
    "\n",
    "# illustrating property methods of numpy arrays\n",
    "a = np.array([1, 2, 3], dtype=\"int16\")\n",
    "\n",
    "b = np.array([[1.0, 2.0, 3.0], \n",
    "              [9.0, 8.0, 7.0]])\n",
    "\n",
    "print(f\"List a: {a}\")\n",
    "print(f\"List b: \\n{b}\")\n",
    "\n",
    "# a.ndim gets dimensions\n",
    "# a.shape gets shape\n",
    "# a.size == # of elements\n",
    "# a.dtype == data type of elements\n",
    "# a.itemsize == bytes per item\n",
    "# a.nbytes == total bytes used == (a.itemsize * a.size)\n",
    "\n",
    "# pandas used only to illustrate various property functions\n",
    "listStats = [[\"a\", a.ndim, a.shape, a.dtype, a.size, a.itemsize, a.nbytes],\n",
    "             [\"b\", b.ndim, b.shape, b.dtype, b.size, b.itemsize, b.nbytes]]\n",
    "df = pd.DataFrame(listStats, columns=[\"List\", \".ndim\", \".shape\", \".dtype\", \".size\", \".itemsize\", \".nbytes\"])\n",
    "print(\"\\n\", df)\n"
   ]
  },
  {
   "cell_type": "code",
   "execution_count": 3,
   "metadata": {},
   "outputs": [
    {
     "name": "stdout",
     "output_type": "stream",
     "text": [
      "a:\n",
      "[[ 1  2  3  4  5  6  7  8  9 10]\n",
      " [11 12 13 14 15 16 17 18 19 20]\n",
      " [21 22 23 24 25 26 27 28 29 30]]\n",
      "\n",
      "Indexing: a[startindex:endindex:stepsize]\n",
      "Numpy access: use a[row, col] instead of a[row][col] for greater efficiency\n",
      "\n",
      "a[1, 3] == 14    # (row 1, col 2)\n",
      "a[1, :] == [11 12 13 14 15 16 17 18 19 20]    # (row 1, all columns)\n",
      "a[:, 2] == [ 3 13 23]    # (all rows, column 2)\n",
      "\n",
      "a[2, ::2] == [21 23 25 27 29]    # (row 2, columns skipping every second)\n",
      "\n",
      "a[1, 5] = 420.69\n",
      "a:\n",
      " [[  1   2   3   4   5   6   7   8   9  10]\n",
      " [ 11  12  13  14  15 420  17  18  19  20]\n",
      " [ 21  22  23  24  25  26  27  28  29  30]]\n"
     ]
    }
   ],
   "source": [
    "# how to access elements - indexing\n",
    "a = np.array([[1, 2, 3, 4, 5, 6, 7, 8, 9, 10],\n",
    "             [11, 12, 13, 14, 15, 16, 17, 18, 19, 20],\n",
    "             [21, 22, 23, 24, 25, 26, 27, 28, 29, 30]])\n",
    "\n",
    "print(\"a:\")\n",
    "print(a)\n",
    "\n",
    "# array indexing: [startindex:endindex:stepsize]\n",
    "# numpy can use comma notation for greater efficiency\n",
    "print(\"\\nIndexing: a[startindex:endindex:stepsize]\")\n",
    "print(\"Numpy access: use a[row, col] instead of a[row][col] for greater efficiency\\n\")\n",
    "\n",
    "print(f\"a[1, 3] == {a[1, 3]}    # (row 1, col 2)\")\n",
    "print(f\"a[1, :] == {a[1, :]}    # (row 1, all columns)\")\n",
    "print(f\"a[:, 2] == {a[:, 2]}    # (all rows, column 2)\")\n",
    "\n",
    "print(f\"\\na[2, ::2] == {a[2, ::2]}    # (row 2, columns skipping every second)\")\n",
    "\n",
    "a[1, 5] = 420.69 # numpy forces data type\n",
    "print(\"\\na[1, 5] = 420.69\")\n",
    "print(\"a:\\n\", a)"
   ]
  },
  {
   "cell_type": "code",
   "execution_count": 9,
   "metadata": {},
   "outputs": [
    {
     "name": "stdout",
     "output_type": "stream",
     "text": [
      "range(2, 4)\n",
      "[0 1 2 3 4 5 6 7 8 9]\n"
     ]
    }
   ],
   "source": []
  }
 ],
 "metadata": {
  "kernelspec": {
   "display_name": "Python 3",
   "language": "python",
   "name": "python3"
  },
  "language_info": {
   "codemirror_mode": {
    "name": "ipython",
    "version": 3
   },
   "file_extension": ".py",
   "mimetype": "text/x-python",
   "name": "python",
   "nbconvert_exporter": "python",
   "pygments_lexer": "ipython3",
   "version": "3.12.1"
  }
 },
 "nbformat": 4,
 "nbformat_minor": 2
}
